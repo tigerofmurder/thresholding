{
 "cells": [
  {
   "cell_type": "code",
   "execution_count": 8,
   "metadata": {},
   "outputs": [
    {
     "name": "stdout",
     "output_type": "stream",
     "text": [
      "['/home/tigerofmurder/CURSOS/EDA/quadtree', '/home/tigerofmurder/anaconda3/lib/python37.zip', '/home/tigerofmurder/anaconda3/lib/python3.7', '/home/tigerofmurder/anaconda3/lib/python3.7/lib-dynload', '', '/home/tigerofmurder/anaconda3/lib/python3.7/site-packages', '/home/tigerofmurder/anaconda3/lib/python3.7/site-packages/IPython/extensions', '/home/tigerofmurder/.ipython', '/home/tigerofmurder/cursos/EDA/quadtree/']\n"
     ]
    }
   ],
   "source": [
    "import sys\n",
    "\n",
    "\n",
    "sys.path.append(\"/home/tigerofmurder/cursos/EDA/quadtree/\")\n",
    "\n",
    "print(sys.path)\n"
   ]
  },
  {
   "cell_type": "code",
   "execution_count": null,
   "metadata": {},
   "outputs": [
    {
     "data": {
      "text/plain": [
       "<Figure size 640x480 with 1 Axes>"
      ]
     },
     "metadata": {},
     "output_type": "display_data"
    },
    {
     "name": "stdout",
     "output_type": "stream",
     "text": [
      "260 200\n"
     ]
    }
   ],
   "source": [
    "import cv2 \n",
    "import numpy as np\n",
    "from matplotlib import pyplot as plt\n",
    "\n",
    "\n",
    "img= cv2.imread('thresh1.png')\n",
    "cv2.imshow('Coverted Image',img)\n",
    "cv2.waitKey(0)\n",
    "cv2.destroyAllWindows()\n",
    "plt.axis(\"on\")\n",
    "plt.hist(img.ravel(),256,[0,256]) \n",
    "plt.show()\n",
    "height, width,c = img.shape\n",
    "print(height,width)\n",
    "\n",
    "for y in range(0,width):\n",
    "    for x in range(0,height):\n",
    "        value_thr = 170\n",
    "        value_default = 140\n",
    "        if (img[x,y,0] > value_thr and img[x,y,0] < value_default and\n",
    "            img[x,y,1] > value_thr and img[x,y,1] < value_default and\n",
    "            img[x,y,2] > value_thr and img[x,y,2] < value_default):\n",
    "            img[x,y,0] = 0\n",
    "            img[x,y,1] = 0\n",
    "            img[x,y,2] = 0\n",
    "\n",
    "        else:\n",
    "            img[x,y,0] = 255\n",
    "            img[x,y,1] = 255\n",
    "            img[x,y,2] = 255\n",
    "\n",
    "cv2.imshow('Coverted Image',img)\n",
    "cv2.waitKey(0)\n",
    "cv2.destroyAllWindows()"
   ]
  },
  {
   "cell_type": "code",
   "execution_count": null,
   "metadata": {},
   "outputs": [],
   "source": [
    "import cv2 \n",
    "import numpy as np\n",
    "from matplotlib import pyplot as plt\n",
    "\n",
    "\n",
    "img= cv2.imread('thresh1.png')\n",
    "plt.axis(\"on\")\n",
    "plt.hist(img.ravel(),256,[0,256]) \n",
    "plt.show()\n",
    "height, width,c = img.shape\n",
    "print(height,width)\n",
    "\n",
    "for y in range(0,width):\n",
    "    for x in range(0,height):\n",
    "        value_thr = 180\n",
    "        if (img[x,y,0] > value_thr and img[x,y,1] > value_thr and img[x,y,2] > value_thr):\n",
    "            img[x,y,0] = 0\n",
    "            img[x,y,1] = 0\n",
    "            img[x,y,2] = 0\n",
    "\n",
    "        else:\n",
    "            img[x,y,0] = 255\n",
    "            img[x,y,1] = 255\n",
    "            img[x,y,2] = 255\n",
    "\n",
    "cv2.imshow('Coverted Image',img)\n",
    "cv2.waitKey(0)\n",
    "cv2.destroyAllWindows()"
   ]
  },
  {
   "cell_type": "code",
   "execution_count": null,
   "metadata": {},
   "outputs": [],
   "source": []
  }
 ],
 "metadata": {
  "kernelspec": {
   "display_name": "Python 3",
   "language": "python",
   "name": "python3"
  },
  "language_info": {
   "codemirror_mode": {
    "name": "ipython",
    "version": 3
   },
   "file_extension": ".py",
   "mimetype": "text/x-python",
   "name": "python",
   "nbconvert_exporter": "python",
   "pygments_lexer": "ipython3",
   "version": "3.7.3"
  }
 },
 "nbformat": 4,
 "nbformat_minor": 4
}
